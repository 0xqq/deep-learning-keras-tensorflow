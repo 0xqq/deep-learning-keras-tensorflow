{
 "cells": [
  {
   "cell_type": "markdown",
   "metadata": {},
   "source": [
    "# Ten Steps to Keras\n",
    "\n",
    "### Deep Learning Tutorial with Keras and Tensorflow"
   ]
  },
  {
   "cell_type": "markdown",
   "metadata": {},
   "source": [
    "<div>\n",
    "    <img style=\"text-align: left\" src=\"imgs/keras-tensorflow-logo.jpg\" width=\"40%\" />\n",
    "<div>\n",
    "\n",
    "<div>\n",
    "    <img style=\"text-align: left\" src=\"imgs/conference_logo.png\" width=\"40%\" alt=\"Conference Logo\" />\n",
    "</div>"
   ]
  },
  {
   "cell_type": "markdown",
   "metadata": {},
   "source": [
    "## Get the Materials"
   ]
  },
  {
   "cell_type": "markdown",
   "metadata": {},
   "source": [
    "<img src=\"imgs/github.jpg\" />\n",
    "```shell\n",
    "\n",
    "git clone -b pydatalondon2017 https://github.com/leriomaggio/deep-learning-keras-tensorflow.git\n",
    "```"
   ]
  },
  {
   "cell_type": "markdown",
   "metadata": {},
   "source": [
    "---"
   ]
  },
  {
   "cell_type": "markdown",
   "metadata": {},
   "source": [
    "# Goal\n",
    "\n",
    "- **Introduce** main features of Keras APIs to build Neural Networks.   \n",
    "- **Learn** how to implement simple and complex Deep Neural Networks Architectures using Keras.   \n",
    "- **Discover** Keras Implementation and Internals.\n",
    "\n",
    "- **Note**: examples and hands-on exercises will be provided along the way."
   ]
  },
  {
   "cell_type": "markdown",
   "metadata": {},
   "source": [
    "# Original Outline (in ten Notebooks)\n",
    "\n",
    "1. _Multi-layer Fully Connected Networks (and the `backends`)_\n",
    "2. _Hidden Layers features and Embeddings_\n",
    "3. _Convolutional Networks_\n",
    "4. _Transfer Learning and Fine Tuning_\n",
    "5. _Residual Networks_\n",
    "6. _Recursive Neural Networks_\n",
    "7. _[Variational] AutoEncoders and Adversarials_\n",
    "8. _Multi-Modal Networks_\n",
    "9. _Custom Layers and Optimisers_ \n",
    "10. _Interactive Networks and Callbacks_\n",
    "\n",
    "# Actual Outline (in ~five Notebooks)\n",
    "\n",
    "<em style=\"text-decoration: line-through;\">Ten</em> Five Steps to Keras\n",
    "\n",
    "- - - -\n",
    "\n",
    "# Description\n",
    "\n",
    "1. _Multi-layer Fully Connected Networks_\n",
    "In this notebook we will learn the basic building blocks of Keras APIs to create deep neural networks. We will learn how to use the `Sequential` object as well as _Functional_ and `keras.backend` APIs. First examples of MLP and Fully Connected Networks will be presented.\n",
    "\n",
    "2. _Hidden Layers Representations and Embeddings_ \n",
    "After having played a bit with Keras APIs for building networks, we start learn how to inspect network's internals. In details, we will learn (1) how to iterate over layers; (2) how to initialise and get weights; (3) how to extract bottleneck features and create embeddings.\n",
    "\n",
    "3. _Convolutional Networks_\n",
    "This notebook will teach how to build CNN (Convolutional Neural Networks). Convolutional, Pooling, DropOut layers will be presented, along with clear description on how to properly apply convolutions on images, depending on `image_data_format` setting.\n",
    "\n",
    "4. _Transfer Learning and Fine Tuning_\n",
    "The Keras implementation of some famous Deep Convolutional Networks  will be presented (i.e. `keras.applications.vgg16`, `keras.applications.vgg19`, and `keras.applications.inceptionv3`). We will learn how to leverage on these models for transfer learning and fine tuning using Keras `Layer` APIs.\n",
    "\n",
    "5. _Residual Networks_\n",
    "In this notebook, Residual Networks will be presented. In particular, the Keras implementation of the residual network topology will be explained. Then, ResNet (`keras.applications.resnet50`) Keras implementation will be detailed.   \n",
    "\n",
    "6. _Recursive Neural Networks_\n",
    "Recursive Neural Networks (i.e. LSTM and GRU) are the main topic of this notebook. The Keras implementation of these two types of network will be presented along with working examples combining Word Embeddings and Convolutional Layers (i.e. `keras.layers.convolutional_recurrent`)\n",
    "\n",
    "7. _[Variational] AutoEncoders and Adversarials_\n",
    "This notebook will be devoted to show how to implement AutoEncoders in Keras. In particular, the implementation of Stacked AutoEncoders, Variational AutoEncoders and Generative Adversarial Networks will be presented.\n",
    "\n",
    "8. _Multi-Modal Networks_\n",
    "Multi-Input and Multi-task Networks are the fundamental steps for advanced deep networks. This notebook will provide implementation recipes and examples. \n",
    " \n",
    "9. _Custom Layers and Optimisers_\n",
    "This notebook will provide details and examples of Keras internals. In particular, we will learn how to implement a Custom Layer in Keras, and custom Activation functions, and custom optimisers. \n",
    " \n",
    "10. _Interactive Networks and Callbacks_ \n",
    "In this last notebook, `keras.callbacks` will be explained. Callbacks to track and monitor network performances during the training process will be built and integrated inside a web app. Finally, an example of `keras-js` will be described, detailing functions in Keras to export models and weights (in `json` and `hdf5` formats)."
   ]
  },
  {
   "cell_type": "markdown",
   "metadata": {},
   "source": [
    "---"
   ]
  },
  {
   "cell_type": "markdown",
   "metadata": {},
   "source": [
    "# Requirements"
   ]
  },
  {
   "cell_type": "markdown",
   "metadata": {},
   "source": [
    "This tutorial requires the following packages:\n",
    "\n",
    "- Python version 3.5\n",
    "    - Python 3.4 should be fine as well\n",
    "    - likely Python 2.7 would be also fine, but *who knows*? :P\n",
    "    \n",
    "- `numpy` version 1.10 or later: http://www.numpy.org/\n",
    "- `scipy` version 0.16 or later: http://www.scipy.org/\n",
    "- `matplotlib` version 1.4 or later: http://matplotlib.org/\n",
    "- `pandas` version 0.16 or later: http://pandas.pydata.org\n",
    "- `scikit-learn` version 0.15 or later: http://scikit-learn.org\n",
    "- `keras` version 2.0 or later: http://keras.io\n",
    "- `tensorflow` version 1.0 or later: https://www.tensorflow.org\n",
    "- `ipython`/`jupyter` version 4.0 or later, with notebook support\n",
    "\n",
    "(Optional but recommended):\n",
    "\n",
    "- `pyyaml`\n",
    "- `hdf5` and `h5py` (required if you use model saving/loading functions in keras)\n",
    "- **NVIDIA cuDNN** if you have NVIDIA GPUs on your machines.\n",
    "    [https://developer.nvidia.com/rdp/cudnn-download]()\n",
    "\n",
    "The easiest way to get (most) these is to use an all-in-one installer such as [Anaconda](http://www.continuum.io/downloads) from Continuum. These are available for multiple architectures."
   ]
  },
  {
   "cell_type": "markdown",
   "metadata": {},
   "source": [
    "---"
   ]
  },
  {
   "cell_type": "markdown",
   "metadata": {},
   "source": [
    "### Python Version"
   ]
  },
  {
   "cell_type": "markdown",
   "metadata": {},
   "source": [
    "I'm currently running this tutorial with **Python 3** on **Anaconda**"
   ]
  },
  {
   "cell_type": "code",
   "execution_count": 1,
   "metadata": {},
   "outputs": [
    {
     "name": "stdout",
     "output_type": "stream",
     "text": [
      "Python 3.5.3\r\n"
     ]
    }
   ],
   "source": [
    "!python --version"
   ]
  },
  {
   "cell_type": "markdown",
   "metadata": {},
   "source": [
    "### Configure Keras with tensorflow\n",
    "\n",
    "1) Create the `keras.json` (if it does not exist):\n",
    "\n",
    "```shell\n",
    "touch $HOME/.keras/keras.json\n",
    "```\n",
    "\n",
    "2) Copy the following content into the file:\n",
    "\n",
    "```\n",
    "{\n",
    "    \"epsilon\": 1e-07,\n",
    "    \"backend\": \"tensorflow\",\n",
    "    \"floatx\": \"float32\",\n",
    "    \"image_data_format\": \"channels_last\"\n",
    "}\n",
    "```"
   ]
  },
  {
   "cell_type": "code",
   "execution_count": 2,
   "metadata": {},
   "outputs": [
    {
     "name": "stdout",
     "output_type": "stream",
     "text": [
      "{\r\n",
      "\t\"epsilon\": 1e-07,\r\n",
      "\t\"backend\": \"tensorflow\",\r\n",
      "\t\"floatx\": \"float32\",\r\n",
      "\t\"image_data_format\": \"channels_last\"\r\n",
      "}"
     ]
    }
   ],
   "source": [
    "!cat ~/.keras/keras.json"
   ]
  },
  {
   "cell_type": "markdown",
   "metadata": {},
   "source": [
    "---"
   ]
  },
  {
   "cell_type": "markdown",
   "metadata": {},
   "source": [
    "# Test if everything is up&running"
   ]
  },
  {
   "cell_type": "markdown",
   "metadata": {},
   "source": [
    "## 1. Check import"
   ]
  },
  {
   "cell_type": "code",
   "execution_count": 3,
   "metadata": {
    "collapsed": true
   },
   "outputs": [],
   "source": [
    "import numpy as np\n",
    "import scipy as sp\n",
    "import pandas as pd\n",
    "import matplotlib.pyplot as plt\n",
    "import sklearn"
   ]
  },
  {
   "cell_type": "code",
   "execution_count": 4,
   "metadata": {},
   "outputs": [
    {
     "name": "stderr",
     "output_type": "stream",
     "text": [
      "Using TensorFlow backend.\n"
     ]
    }
   ],
   "source": [
    "import keras"
   ]
  },
  {
   "cell_type": "markdown",
   "metadata": {},
   "source": [
    "## 2. Check installeded Versions"
   ]
  },
  {
   "cell_type": "code",
   "execution_count": 5,
   "metadata": {},
   "outputs": [
    {
     "name": "stdout",
     "output_type": "stream",
     "text": [
      "numpy: 1.12.1\n",
      "scipy: 0.19.0\n",
      "matplotlib: 2.0.1\n",
      "iPython: 6.0.0\n",
      "scikit-learn: 0.18.1\n"
     ]
    }
   ],
   "source": [
    "import numpy\n",
    "print('numpy:', numpy.__version__)\n",
    "\n",
    "import scipy\n",
    "print('scipy:', scipy.__version__)\n",
    "\n",
    "import matplotlib\n",
    "print('matplotlib:', matplotlib.__version__)\n",
    "\n",
    "import IPython\n",
    "print('iPython:', IPython.__version__)\n",
    "\n",
    "import sklearn\n",
    "print('scikit-learn:', sklearn.__version__)"
   ]
  },
  {
   "cell_type": "code",
   "execution_count": 6,
   "metadata": {},
   "outputs": [
    {
     "name": "stdout",
     "output_type": "stream",
     "text": [
      "keras:  2.0.4\n",
      "Theano:  0.9.0\n",
      "Tensorflow:  1.1.0\n"
     ]
    }
   ],
   "source": [
    "import keras\n",
    "print('keras: ', keras.__version__)\n",
    "\n",
    "# optional\n",
    "import theano\n",
    "print('Theano: ', theano.__version__)\n",
    "\n",
    "import tensorflow as tf\n",
    "print('Tensorflow: ', tf.__version__)"
   ]
  },
  {
   "cell_type": "markdown",
   "metadata": {},
   "source": [
    "<br>\n",
    "<h1 style=\"text-align: center;\">If everything worked till down here, you're ready to start!</h1>"
   ]
  },
  {
   "cell_type": "markdown",
   "metadata": {},
   "source": [
    "---\n"
   ]
  }
 ],
 "metadata": {
  "anaconda-cloud": {},
  "kernelspec": {
   "display_name": "Python [default]",
   "language": "python",
   "name": "python3"
  },
  "language_info": {
   "codemirror_mode": {
    "name": "ipython",
    "version": 3
   },
   "file_extension": ".py",
   "mimetype": "text/x-python",
   "name": "python",
   "nbconvert_exporter": "python",
   "pygments_lexer": "ipython3",
   "version": "3.5.3"
  }
 },
 "nbformat": 4,
 "nbformat_minor": 1
}
