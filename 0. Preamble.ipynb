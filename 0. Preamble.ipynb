{
 "cells": [
  {
   "cell_type": "markdown",
   "metadata": {
    "slideshow": {
     "slide_type": "-"
    }
   },
   "source": [
    "<div>\n",
    "    <h1 style=\"text-align: center;\">Deep Learning with Keras</h1>\n",
    "    <img style=\"text-align: left\" src=\"imgs/keras-logo-small.jpg\" width=\"10%\" />\n",
    "<div>\n",
    "\n",
    "<div>\n",
    "    <h2 style=\"text-align: center;\">Tutorial @ EuroScipy 2016</h2>\n",
    "    <img style=\"text-align: left\" src=\"imgs/euroscipy_2016_logo.png\" width=\"40%\" />\n",
    "</div>    "
   ]
  },
  {
   "cell_type": "markdown",
   "metadata": {
    "slideshow": {
     "slide_type": "-"
    }
   },
   "source": [
    "# Goal of this Tutorial\n",
    "\n",
    "- **Introduce** main features of Keras\n",
    "- **Learn** how simple and Pythonic is doing Deep Learning with Keras\n",
    "- **Understand** how easy is to do basic and *advanced* DL models in Keras;\n",
    "    - **Examples and Hand-on Excerises** along the way."
   ]
  },
  {
   "cell_type": "markdown",
   "metadata": {},
   "source": [
    "---"
   ]
  },
  {
   "cell_type": "markdown",
   "metadata": {
    "collapsed": true
   },
   "source": [
    "# Outline (Spoilers Warning)\n",
    "\n",
    "- **Part I**: **Introduction**\n",
    "\n",
    "    - Intro to ANN \n",
    "        - (naive pure-Python implementation)\n",
    "        - fast forward\n",
    "        - sgd + backprop\n",
    "    - Intro to Theano\n",
    "        - Model + SGD with Theano\n",
    "        \n",
    "    - Introduction to Keras\n",
    "        - Overview and main features\n",
    "            - Theano backend\n",
    "            - Tensorflow backend\n",
    "        - Same LogReg with Keras\n",
    "\n",
    "- **Part II**: **Supervised Learning + Keras Internals**\n",
    "    \n",
    "    - Intro: Focus on Image Classification\n",
    "    \n",
    "    - Multi-Layer Perceptron and Fully Connected\n",
    "        - Examples with `keras.models.Sequential` and `Dense`\n",
    "        - HandsOn: MLP with keras \n",
    "        \n",
    "    - Intro to CNN\n",
    "        - meaning of convolutional filters\n",
    "            - examples from ImageNet    \n",
    "        - Meaning of dimensions of Conv filters (through an exmple of ConvNet) \n",
    "        - HandsOn: ConvNet with keras \n",
    "\n",
    "    - Advanced CNN\n",
    "        -  Dropout and MaxPooling\n",
    "        \n",
    "    - Famous ANN in Keras (likely moved somewhere else)\n",
    "        - ref: https://github.com/fchollet/deep-learning-models\n",
    "        - VGG16\n",
    "        - VGG19\n",
    "        - LaNet\n",
    "        - Inception/GoogleNet\n",
    "        - ResNet\n",
    "        *Implementation and examples \n",
    "        - HandsOn: Fine tuning a network on new dataset \n",
    "        \n",
    "- **Part III**: **Unsupervised Learning**\n",
    "\n",
    "    - AutoEncoders\n",
    "    - word2vec & doc2vec (gensim) + `keras.dataset` (i.e. `keras.dataset.imdb`)   \n",
    "    - HandsOn: _______\n",
    "\n",
    "- **Part IV**: **Advanced Materials**\n",
    "    - RNN (LSTM)\n",
    "        -  RNN, LSTM, GRU  \n",
    "        -  Meaning of dimensions of rnn (backprop though time, etc)\n",
    "        -  HandsOn: IMDB (?)\n",
    "\n",
    "    - CNN-RNN\n",
    "    - Time Distributed Convolution (?)\n",
    "    - Some of the recent advances in DL implemented in Keras\n",
    "        - e.g. https://github.com/snf/keras-fractalnet - Fractal Net Implementation with Keras\n",
    "\n",
    "- **Conclusions**"
   ]
  },
  {
   "cell_type": "markdown",
   "metadata": {},
   "source": [
    "---"
   ]
  },
  {
   "cell_type": "markdown",
   "metadata": {},
   "source": [
    "# Requirements"
   ]
  },
  {
   "cell_type": "markdown",
   "metadata": {},
   "source": [
    "This tutorial requires the following packages:\n",
    "\n",
    "- Python version 3.4+\n",
    "- `numpy` version 1.10 or later: http://www.numpy.org/\n",
    "- `scipy` version 0.16 or later: http://www.scipy.org/\n",
    "- `matplotlib` version 1.4 or later: http://matplotlib.org/\n",
    "- `scikit-learn` version 0.15 or later: http://scikit-learn.org\n",
    "- `keras` version 1.0 or later: http://keras.io\n",
    "- `theano` version 0.8 or later: http://deeplearning.net/software/theano/\n",
    "- `ipython`/`jupyter` version 4.0 or later, with notebook support\n",
    "\n",
    "(Optional but recommended):\n",
    "\n",
    "- `pyyaml`\n",
    "- `hdf5` and `h5py` (required if you use model saving/loading functions in keras)\n",
    "- **NVIDIA cuDNN** if you have NVIDIA GPUs on your machines.\n",
    "\n",
    "The easiest way to get (most) these is to use an all-in-one installer such as [Anaconda](http://www.continuum.io/downloads) from Continuum. These are available for multiple architectures."
   ]
  },
  {
   "cell_type": "markdown",
   "metadata": {},
   "source": [
    "### Python Version"
   ]
  },
  {
   "cell_type": "markdown",
   "metadata": {},
   "source": [
    "I'm currently running this tutorial with **Python 3** on **Anaconda**"
   ]
  },
  {
   "cell_type": "code",
   "execution_count": 1,
   "metadata": {
    "collapsed": false
   },
   "outputs": [
    {
     "name": "stdout",
     "output_type": "stream",
     "text": [
      "Python 3.5.2 :: Anaconda custom (x86_64)\r\n"
     ]
    }
   ],
   "source": [
    "!python --version"
   ]
  },
  {
   "cell_type": "markdown",
   "metadata": {},
   "source": [
    "---"
   ]
  },
  {
   "cell_type": "markdown",
   "metadata": {},
   "source": [
    "# Consulting Material"
   ]
  },
  {
   "cell_type": "markdown",
   "metadata": {},
   "source": [
    "You have two options to go through the material presented in this tutorial:\n",
    "\n",
    "* Read (and execute) the material as **iPython/Jupyter** notebooks\n",
    "* (just) read the material as (HTML) slides"
   ]
  },
  {
   "cell_type": "markdown",
   "metadata": {},
   "source": [
    "In the first case, all you need to do is just execute `ipython notebook` (or `jupyter notebook`) depending on the version of `iPython` you have installed on your machine\n",
    "\n",
    "(`jupyter` command works in case you have `iPython 4.0.x` installed)"
   ]
  },
  {
   "cell_type": "markdown",
   "metadata": {},
   "source": [
    "In the second case, you may simply convert the provided notebooks in `HTML` slides and see them into your browser\n",
    "thanks to `nbconvert`.\n",
    "\n",
    "Thus, move to the folder where notebooks are stored and execute the following command:\n",
    "\n",
    "    jupyter nbconvert --to slides ./*.ipynb --post serve\n",
    "    \n",
    "   \n",
    "(Please substitute `jupyter` with `ipython` in the previous command if you have `iPython 3.x` installed on your machine)"
   ]
  },
  {
   "cell_type": "markdown",
   "metadata": {},
   "source": [
    "## In case..."
   ]
  },
  {
   "cell_type": "markdown",
   "metadata": {},
   "source": [
    "..you wanna do **both** (interactive and executable slides), I highly suggest to install the terrific `RISE` ipython notebook extension: [https://github.com/damianavila/RISE]()"
   ]
  }
 ],
 "metadata": {
  "kernelspec": {
   "display_name": "Python 3",
   "language": "python",
   "name": "python3"
  },
  "language_info": {
   "codemirror_mode": {
    "name": "ipython",
    "version": 3
   },
   "file_extension": ".py",
   "mimetype": "text/x-python",
   "name": "python",
   "nbconvert_exporter": "python",
   "pygments_lexer": "ipython3",
   "version": "3.5.2"
  }
 },
 "nbformat": 4,
 "nbformat_minor": 0
}
