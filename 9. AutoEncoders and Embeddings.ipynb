{
 "cells": [
  {
   "cell_type": "markdown",
   "metadata": {},
   "source": [
    "# Unsupervised learning"
   ]
  },
  {
   "cell_type": "markdown",
   "metadata": {},
   "source": [
    "### AutoEncoders  "
   ]
  },
  {
   "cell_type": "markdown",
   "metadata": {},
   "source": [
    "An autoencoder, is an artificial neural network used for learning efficient codings. \n",
    "\n",
    "The aim of an autoencoder is to learn a representation (encoding) for a set of data, typically for the purpose of dimensionality reduction. "
   ]
  },
  {
   "cell_type": "markdown",
   "metadata": {},
   "source": [
    "<img src=\"imgs/autoencoder.png\" width=\"25%\">"
   ]
  },
  {
   "cell_type": "markdown",
   "metadata": {},
   "source": [
    "Unsupervised learning is a type of machine learning algorithm used to draw inferences from datasets consisting of input data without labeled responses. The most common unsupervised learning method is cluster analysis, which is used for exploratory data analysis to find hidden patterns or grouping in data."
   ]
  },
  {
   "cell_type": "markdown",
   "metadata": {},
   "source": [
    "### Reference\n",
    "\n",
    "Based on [https://blog.keras.io/building-autoencoders-in-keras.html](https://blog.keras.io/building-autoencoders-in-keras.html)"
   ]
  },
  {
   "cell_type": "markdown",
   "metadata": {},
   "source": [
    "## Introducing _Keras Functional API_"
   ]
  },
  {
   "cell_type": "markdown",
   "metadata": {},
   "source": [
    "The Keras functional API is the way to go for defining complex models, such as multi-output models, directed acyclic graphs, or models with shared layers."
   ]
  },
  {
   "cell_type": "markdown",
   "metadata": {},
   "source": [
    "All the Functional API relies on the fact that each `keras.Layer` object is a _callable_ object!\n",
    "\n",
    "See [10. Multi-Modal Networks](10. Multi-Modal Networks.ipynb) for further details."
   ]
  },
  {
   "cell_type": "markdown",
   "metadata": {},
   "source": [
    "---"
   ]
  },
  {
   "cell_type": "code",
   "execution_count": 1,
   "metadata": {},
   "outputs": [
    {
     "name": "stderr",
     "output_type": "stream",
     "text": [
      "Using TensorFlow backend.\n"
     ]
    }
   ],
   "source": [
    "from keras.layers import Input, Dense\n",
    "from keras.models import Model\n",
    "\n",
    "from keras.datasets import mnist\n",
    "\n",
    "import numpy as np"
   ]
  },
  {
   "cell_type": "code",
   "execution_count": 2,
   "metadata": {
    "collapsed": true
   },
   "outputs": [],
   "source": [
    "# this is the size of our encoded representations\n",
    "encoding_dim = 32  # 32 floats -> compression of factor 24.5, assuming the input is 784 floats\n",
    "\n",
    "# this is our input placeholder\n",
    "input_img = Input(shape=(784,))\n",
    "# \"encoded\" is the encoded representation of the input\n",
    "encoded = Dense(encoding_dim, activation='relu')(input_img)\n",
    "\n",
    "# \"decoded\" is the lossy reconstruction of the input\n",
    "decoded = Dense(784, activation='sigmoid')(encoded)\n",
    "\n",
    "# this model maps an input to its reconstruction\n",
    "autoencoder = Model(input_img, decoded)"
   ]
  },
  {
   "cell_type": "code",
   "execution_count": 3,
   "metadata": {
    "collapsed": true
   },
   "outputs": [],
   "source": [
    "# this model maps an input to its encoded representation\n",
    "encoder = Model(input_img, encoded)"
   ]
  },
  {
   "cell_type": "code",
   "execution_count": 4,
   "metadata": {
    "collapsed": true
   },
   "outputs": [],
   "source": [
    "# create a placeholder for an encoded (32-dimensional) input\n",
    "encoded_input = Input(shape=(encoding_dim,))\n",
    "# retrieve the last layer of the autoencoder model\n",
    "decoder_layer = autoencoder.layers[-1]\n",
    "# create the decoder model\n",
    "decoder = Model(encoded_input, decoder_layer(encoded_input))"
   ]
  },
  {
   "cell_type": "code",
   "execution_count": 5,
   "metadata": {
    "collapsed": true
   },
   "outputs": [],
   "source": [
    "autoencoder.compile(optimizer='adadelta', loss='binary_crossentropy')"
   ]
  },
  {
   "cell_type": "code",
   "execution_count": 6,
   "metadata": {
    "scrolled": false
   },
   "outputs": [],
   "source": [
    "(x_train, _), (x_test, _) = mnist.load_data()\n",
    "\n",
    "x_train = x_train.astype('float32') / 255.\n",
    "x_test = x_test.astype('float32') / 255.\n",
    "x_train = x_train.reshape((len(x_train), np.prod(x_train.shape[1:])))\n",
    "x_test = x_test.reshape((len(x_test), np.prod(x_test.shape[1:])))"
   ]
  },
  {
   "cell_type": "code",
   "execution_count": 7,
   "metadata": {
    "collapsed": true
   },
   "outputs": [
    {
     "name": "stdout",
     "output_type": "stream",
     "text": [
      "Train on 60000 samples, validate on 10000 samples\n",
      "Epoch 1/50\n",
      "60000/60000 [==============================] - 1s - loss: 0.3830 - val_loss: 0.2731\n",
      "Epoch 2/50\n",
      "60000/60000 [==============================] - 1s - loss: 0.2664 - val_loss: 0.2561\n",
      "Epoch 3/50\n",
      "60000/60000 [==============================] - 1s - loss: 0.2463 - val_loss: 0.2336\n",
      "Epoch 4/50\n",
      "60000/60000 [==============================] - 1s - loss: 0.2258 - val_loss: 0.2156\n",
      "Epoch 5/50\n",
      "60000/60000 [==============================] - 1s - loss: 0.2105 - val_loss: 0.2030\n",
      "Epoch 6/50\n",
      "60000/60000 [==============================] - 1s - loss: 0.1997 - val_loss: 0.1936\n",
      "Epoch 7/50\n",
      "60000/60000 [==============================] - 1s - loss: 0.1914 - val_loss: 0.1863\n",
      "Epoch 8/50\n",
      "60000/60000 [==============================] - 1s - loss: 0.1846 - val_loss: 0.1800\n",
      "Epoch 9/50\n",
      "60000/60000 [==============================] - 1s - loss: 0.1789 - val_loss: 0.1749\n",
      "Epoch 10/50\n",
      "60000/60000 [==============================] - 1s - loss: 0.1740 - val_loss: 0.1702\n",
      "Epoch 11/50\n",
      "60000/60000 [==============================] - 1s - loss: 0.1697 - val_loss: 0.1660\n",
      "Epoch 12/50\n",
      "60000/60000 [==============================] - 1s - loss: 0.1657 - val_loss: 0.1622\n",
      "Epoch 13/50\n",
      "60000/60000 [==============================] - 1s - loss: 0.1620 - val_loss: 0.1587\n",
      "Epoch 14/50\n",
      "60000/60000 [==============================] - 1s - loss: 0.1586 - val_loss: 0.1554\n",
      "Epoch 15/50\n",
      "60000/60000 [==============================] - 1s - loss: 0.1554 - val_loss: 0.1524\n",
      "Epoch 16/50\n",
      "60000/60000 [==============================] - 1s - loss: 0.1525 - val_loss: 0.1495\n",
      "Epoch 17/50\n",
      "60000/60000 [==============================] - 1s - loss: 0.1497 - val_loss: 0.1468\n",
      "Epoch 18/50\n",
      "60000/60000 [==============================] - 1s - loss: 0.1470 - val_loss: 0.1441\n",
      "Epoch 19/50\n",
      "60000/60000 [==============================] - 1s - loss: 0.1444 - val_loss: 0.1415\n",
      "Epoch 20/50\n",
      "60000/60000 [==============================] - 1s - loss: 0.1419 - val_loss: 0.1391\n",
      "Epoch 21/50\n",
      "60000/60000 [==============================] - 1s - loss: 0.1395 - val_loss: 0.1367\n",
      "Epoch 22/50\n",
      "60000/60000 [==============================] - 1s - loss: 0.1371 - val_loss: 0.1345\n",
      "Epoch 23/50\n",
      "60000/60000 [==============================] - 1s - loss: 0.1349 - val_loss: 0.1323ss: 0.13\n",
      "Epoch 24/50\n",
      "60000/60000 [==============================] - 1s - loss: 0.1328 - val_loss: 0.1302\n",
      "Epoch 25/50\n",
      "60000/60000 [==============================] - 1s - loss: 0.1308 - val_loss: 0.1283\n",
      "Epoch 26/50\n",
      "60000/60000 [==============================] - 1s - loss: 0.1289 - val_loss: 0.1264\n",
      "Epoch 27/50\n",
      "60000/60000 [==============================] - 1s - loss: 0.1271 - val_loss: 0.1247\n",
      "Epoch 28/50\n",
      "60000/60000 [==============================] - 1s - loss: 0.1254 - val_loss: 0.1230\n",
      "Epoch 29/50\n",
      "60000/60000 [==============================] - 1s - loss: 0.1238 - val_loss: 0.1215\n",
      "Epoch 30/50\n",
      "60000/60000 [==============================] - 1s - loss: 0.1223 - val_loss: 0.1200\n",
      "Epoch 31/50\n",
      "60000/60000 [==============================] - 1s - loss: 0.1208 - val_loss: 0.1186\n",
      "Epoch 32/50\n",
      "60000/60000 [==============================] - 1s - loss: 0.1195 - val_loss: 0.1172\n",
      "Epoch 33/50\n",
      "60000/60000 [==============================] - 1s - loss: 0.1182 - val_loss: 0.1160\n",
      "Epoch 34/50\n",
      "60000/60000 [==============================] - 1s - loss: 0.1170 - val_loss: 0.1149\n",
      "Epoch 35/50\n",
      "60000/60000 [==============================] - 1s - loss: 0.1158 - val_loss: 0.1137\n",
      "Epoch 36/50\n",
      "60000/60000 [==============================] - 1s - loss: 0.1148 - val_loss: 0.1127\n",
      "Epoch 37/50\n",
      "60000/60000 [==============================] - 1s - loss: 0.1138 - val_loss: 0.1117\n",
      "Epoch 38/50\n",
      "60000/60000 [==============================] - 1s - loss: 0.1129 - val_loss: 0.1109\n",
      "Epoch 39/50\n",
      "60000/60000 [==============================] - 1s - loss: 0.1120 - val_loss: 0.1100\n",
      "Epoch 40/50\n",
      "60000/60000 [==============================] - 1s - loss: 0.1112 - val_loss: 0.1093\n",
      "Epoch 41/50\n",
      "60000/60000 [==============================] - 1s - loss: 0.1105 - val_loss: 0.1085\n",
      "Epoch 42/50\n",
      "60000/60000 [==============================] - 1s - loss: 0.1098 - val_loss: 0.1079\n",
      "Epoch 43/50\n",
      "60000/60000 [==============================] - 1s - loss: 0.1092 - val_loss: 0.1072\n",
      "Epoch 44/50\n",
      "60000/60000 [==============================] - 1s - loss: 0.1086 - val_loss: 0.1066\n",
      "Epoch 45/50\n",
      "60000/60000 [==============================] - 1s - loss: 0.1080 - val_loss: 0.1061\n",
      "Epoch 46/50\n",
      "60000/60000 [==============================] - 1s - loss: 0.1074 - val_loss: 0.1056\n",
      "Epoch 47/50\n",
      "60000/60000 [==============================] - 1s - loss: 0.1069 - val_loss: 0.1051\n",
      "Epoch 48/50\n",
      "60000/60000 [==============================] - 1s - loss: 0.1065 - val_loss: 0.1046\n",
      "Epoch 49/50\n",
      "60000/60000 [==============================] - 1s - loss: 0.1060 - val_loss: 0.1042\n",
      "Epoch 50/50\n",
      "60000/60000 [==============================] - 1s - loss: 0.1056 - val_loss: 0.1037\n"
     ]
    },
    {
     "data": {
      "text/plain": [
       "<keras.callbacks.History at 0x7fd1ce5140f0>"
      ]
     },
     "execution_count": 7,
     "metadata": {},
     "output_type": "execute_result"
    }
   ],
   "source": [
    "#note: x_train, x_train :) \n",
    "autoencoder.fit(x_train, x_train,\n",
    "                epochs=50,\n",
    "                batch_size=256,\n",
    "                shuffle=True,\n",
    "                validation_data=(x_test, x_test))"
   ]
  },
  {
   "cell_type": "markdown",
   "metadata": {},
   "source": [
    "#### Testing the Autoencoder "
   ]
  },
  {
   "cell_type": "code",
   "execution_count": 8,
   "metadata": {
    "collapsed": true
   },
   "outputs": [],
   "source": [
    "from matplotlib import pyplot as plt\n",
    "\n",
    "%matplotlib inline"
   ]
  },
  {
   "cell_type": "code",
   "execution_count": 9,
   "metadata": {
    "scrolled": true
   },
   "outputs": [
    {
     "data": {
      "image/png": "[encoded data removed]",
      "text/plain": [
       "<matplotlib.figure.Figure at 0x7fd228387c18>"
      ]
     },
     "metadata": {},
     "output_type": "display_data"
    }
   ],
   "source": [
    "encoded_imgs = encoder.predict(x_test)\n",
    "decoded_imgs = decoder.predict(encoded_imgs)\n",
    "\n",
    "n = 10 \n",
    "plt.figure(figsize=(20, 4))\n",
    "for i in range(n):\n",
    "    # original\n",
    "    ax = plt.subplot(2, n, i + 1)\n",
    "    plt.imshow(x_test[i].reshape(28, 28))\n",
    "    plt.gray()\n",
    "    ax.get_xaxis().set_visible(False)\n",
    "    ax.get_yaxis().set_visible(False)\n",
    "\n",
    "    # reconstruction\n",
    "    ax = plt.subplot(2, n, i + 1 + n)\n",
    "    plt.imshow(decoded_imgs[i].reshape(28, 28))\n",
    "    plt.gray()\n",
    "    ax.get_xaxis().set_visible(False)\n",
    "    ax.get_yaxis().set_visible(False)\n",
    "plt.show()"
   ]
  },
  {
   "cell_type": "markdown",
   "metadata": {},
   "source": [
    "### Sample generation with Autoencoder "
   ]
  },
  {
   "cell_type": "code",
   "execution_count": 10,
   "metadata": {},
   "outputs": [
    {
     "data": {
      "image/png": "[encoded data removed]",
      "text/plain": [
       "<matplotlib.figure.Figure at 0x7fd1ce6779e8>"
      ]
     },
     "metadata": {},
     "output_type": "display_data"
    }
   ],
   "source": [
    "encoded_imgs = np.random.rand(10,32)\n",
    "decoded_imgs = decoder.predict(encoded_imgs)\n",
    "\n",
    "n = 10 \n",
    "plt.figure(figsize=(20, 4))\n",
    "for i in range(n):\n",
    "    # generation\n",
    "    ax = plt.subplot(2, n, i + 1 + n)\n",
    "    plt.imshow(decoded_imgs[i].reshape(28, 28))\n",
    "    plt.gray()\n",
    "    ax.get_xaxis().set_visible(False)\n",
    "    ax.get_yaxis().set_visible(False)\n",
    "plt.show()"
   ]
  },
  {
   "cell_type": "markdown",
   "metadata": {},
   "source": [
    "---\n",
    "\n",
    "## Convolutional AutoEncoder"
   ]
  },
  {
   "cell_type": "markdown",
   "metadata": {},
   "source": [
    "Since our inputs are images, it makes sense to use convolutional neural networks (`convnets`) as encoders and decoders. \n",
    "\n",
    "In practical settings, autoencoders applied to images are always convolutional autoencoders --they simply perform much better.\n",
    "\n",
    "The encoder will consist in a stack of `Conv2D` and `MaxPooling2D` layers (max pooling being used for spatial down-sampling), while the decoder will consist in a stack of `Conv2D` and `UpSampling2D` layers.\n",
    "\n"
   ]
  },
  {
   "cell_type": "code",
   "execution_count": 20,
   "metadata": {},
   "outputs": [],
   "source": [
    "from keras.layers import Input, Dense, Conv2D, MaxPooling2D, UpSampling2D\n",
    "from keras.models import Model\n",
    "from keras import backend as K\n",
    "\n",
    "input_img = Input(shape=(28, 28, 1))  # adapt this if using `channels_first` image data format\n",
    "\n",
    "x = Conv2D(16, (3, 3), activation='relu', padding='same')(input_img)\n",
    "x = MaxPooling2D((2, 2), padding='same')(x)\n",
    "x = Conv2D(8, (3, 3), activation='relu', padding='same')(x)\n",
    "x = MaxPooling2D((2, 2), padding='same')(x)\n",
    "x = Conv2D(8, (3, 3), activation='relu', padding='same')(x)\n",
    "encoded = MaxPooling2D((2, 2), padding='same')(x)\n",
    "\n",
    "# at this point the representation is (4, 4, 8) i.e. 128-dimensional\n",
    "\n",
    "x = Conv2D(8, (3, 3), activation='relu', padding='same')(encoded)\n",
    "x = UpSampling2D((2, 2))(x)\n",
    "x = Conv2D(8, (3, 3), activation='relu', padding='same')(x)\n",
    "x = UpSampling2D((2, 2))(x)\n",
    "x = Conv2D(16, (3, 3), activation='relu')(x)\n",
    "x = UpSampling2D((2, 2))(x)\n",
    "decoded = Conv2D(1, (3, 3), activation='sigmoid', padding='same')(x)\n",
    "\n",
    "conv_autoencoder = Model(input_img, decoded)\n",
    "conv_autoencoder.compile(optimizer='adadelta', loss='binary_crossentropy')"
   ]
  },
  {
   "cell_type": "code",
   "execution_count": 21,
   "metadata": {},
   "outputs": [],
   "source": [
    "from keras import backend as K\n",
    "\n",
    "if K.image_data_format() == 'channels_last':\n",
    "    shape_ord = (28, 28, 1)\n",
    "else:\n",
    "    shape_ord = (1, 28, 28)\n",
    "    \n",
    "(x_train, _), (x_test, _) = mnist.load_data()\n",
    "\n",
    "x_train = x_train.astype('float32') / 255.\n",
    "x_test = x_test.astype('float32') / 255.\n",
    "\n",
    "x_train = np.reshape(x_train, ((x_train.shape[0],) + shape_ord))  \n",
    "x_test = np.reshape(x_test, ((x_test.shape[0],) + shape_ord)) "
   ]
  },
  {
   "cell_type": "code",
   "execution_count": 22,
   "metadata": {},
   "outputs": [
    {
     "data": {
      "text/plain": [
       "(60000, 28, 28, 1)"
      ]
     },
     "execution_count": 22,
     "metadata": {},
     "output_type": "execute_result"
    }
   ],
   "source": [
    "x_train.shape"
   ]
  },
  {
   "cell_type": "code",
   "execution_count": 23,
   "metadata": {
    "collapsed": true
   },
   "outputs": [],
   "source": [
    "from keras.callbacks import TensorBoard"
   ]
  },
  {
   "cell_type": "code",
   "execution_count": 25,
   "metadata": {
    "collapsed": true
   },
   "outputs": [
    {
     "name": "stdout",
     "output_type": "stream",
     "text": [
      "Train on 60000 samples, validate on 10000 samples\n",
      "Epoch 1/50\n",
      "60000/60000 [==============================] - 8s - loss: 0.2327 - val_loss: 0.1740\n",
      "Epoch 2/50\n",
      "60000/60000 [==============================] - 7s - loss: 0.1645 - val_loss: 0.1551\n",
      "Epoch 3/50\n",
      "60000/60000 [==============================] - 7s - loss: 0.1501 - val_loss: 0.1442\n",
      "Epoch 4/50\n",
      "60000/60000 [==============================] - 7s - loss: 0.1404 - val_loss: 0.1375\n",
      "Epoch 5/50\n",
      "60000/60000 [==============================] - 7s - loss: 0.1342 - val_loss: 0.1316\n",
      "Epoch 6/50\n",
      "60000/60000 [==============================] - 7s - loss: 0.1300 - val_loss: 0.1298\n",
      "Epoch 7/50\n",
      "60000/60000 [==============================] - 7s - loss: 0.1272 - val_loss: 0.1301\n",
      "Epoch 8/50\n",
      "60000/60000 [==============================] - 7s - loss: 0.1243 - val_loss: 0.1221\n",
      "Epoch 9/50\n",
      "60000/60000 [==============================] - 7s - loss: 0.1222 - val_loss: 0.1196\n",
      "Epoch 10/50\n",
      "60000/60000 [==============================] - 7s - loss: 0.1207 - val_loss: 0.1184\n",
      "Epoch 11/50\n",
      "60000/60000 [==============================] - 7s - loss: 0.1188 - val_loss: 0.1162\n",
      "Epoch 12/50\n",
      "60000/60000 [==============================] - 7s - loss: 0.1175 - val_loss: 0.1160\n",
      "Epoch 13/50\n",
      "60000/60000 [==============================] - 7s - loss: 0.1167 - val_loss: 0.1164\n",
      "Epoch 14/50\n",
      "60000/60000 [==============================] - 7s - loss: 0.1154 - val_loss: 0.1160\n",
      "Epoch 15/50\n",
      "60000/60000 [==============================] - 7s - loss: 0.1145 - val_loss: 0.1159\n",
      "Epoch 16/50\n",
      "60000/60000 [==============================] - 7s - loss: 0.1132 - val_loss: 0.1110\n",
      "Epoch 17/50\n",
      "60000/60000 [==============================] - 7s - loss: 0.1127 - val_loss: 0.1108\n",
      "Epoch 18/50\n",
      "60000/60000 [==============================] - 7s - loss: 0.1118 - val_loss: 0.1099\n",
      "Epoch 19/50\n",
      "60000/60000 [==============================] - 7s - loss: 0.1113 - val_loss: 0.1106\n",
      "Epoch 20/50\n",
      "60000/60000 [==============================] - 7s - loss: 0.1108 - val_loss: 0.1120\n",
      "Epoch 21/50\n",
      "60000/60000 [==============================] - 7s - loss: 0.1104 - val_loss: 0.1064\n",
      "Epoch 22/50\n",
      "60000/60000 [==============================] - 7s - loss: 0.1094 - val_loss: 0.1075\n",
      "Epoch 23/50\n",
      "60000/60000 [==============================] - 7s - loss: 0.1088 - val_loss: 0.1088\n",
      "Epoch 24/50\n",
      "60000/60000 [==============================] - 7s - loss: 0.1085 - val_loss: 0.1071\n",
      "Epoch 25/50\n",
      "60000/60000 [==============================] - 7s - loss: 0.1081 - val_loss: 0.1060\n",
      "Epoch 26/50\n",
      "60000/60000 [==============================] - 7s - loss: 0.1075 - val_loss: 0.1062\n",
      "Epoch 27/50\n",
      "60000/60000 [==============================] - 7s - loss: 0.1074 - val_loss: 0.1062\n",
      "Epoch 28/50\n",
      "60000/60000 [==============================] - 7s - loss: 0.1065 - val_loss: 0.1045\n",
      "Epoch 29/50\n",
      "60000/60000 [==============================] - 7s - loss: 0.1062 - val_loss: 0.1043\n",
      "Epoch 30/50\n",
      "60000/60000 [==============================] - 7s - loss: 0.1057 - val_loss: 0.1038\n",
      "Epoch 31/50\n",
      "60000/60000 [==============================] - 7s - loss: 0.1053 - val_loss: 0.1040\n",
      "Epoch 32/50\n",
      "60000/60000 [==============================] - 7s - loss: 0.1048 - val_loss: 0.1041\n",
      "Epoch 33/50\n",
      "60000/60000 [==============================] - 7s - loss: 0.1045 - val_loss: 0.1057\n",
      "Epoch 34/50\n",
      "60000/60000 [==============================] - 7s - loss: 0.1041 - val_loss: 0.1026\n",
      "Epoch 35/50\n",
      "60000/60000 [==============================] - 7s - loss: 0.1041 - val_loss: 0.1042\n",
      "Epoch 36/50\n",
      "60000/60000 [==============================] - 7s - loss: 0.1035 - val_loss: 0.1053\n",
      "Epoch 37/50\n",
      "60000/60000 [==============================] - 7s - loss: 0.1032 - val_loss: 0.1006\n",
      "Epoch 38/50\n",
      "60000/60000 [==============================] - 7s - loss: 0.1030 - val_loss: 0.1011\n",
      "Epoch 39/50\n",
      "60000/60000 [==============================] - 7s - loss: 0.1028 - val_loss: 0.1013\n",
      "Epoch 40/50\n",
      "60000/60000 [==============================] - 7s - loss: 0.1027 - val_loss: 0.1018\n",
      "Epoch 41/50\n",
      "60000/60000 [==============================] - 7s - loss: 0.1025 - val_loss: 0.1019\n",
      "Epoch 42/50\n",
      "60000/60000 [==============================] - 7s - loss: 0.1024 - val_loss: 0.1025\n",
      "Epoch 43/50\n",
      "60000/60000 [==============================] - 7s - loss: 0.1020 - val_loss: 0.1015\n",
      "Epoch 44/50\n",
      "60000/60000 [==============================] - 7s - loss: 0.1020 - val_loss: 0.1018\n",
      "Epoch 45/50\n",
      "60000/60000 [==============================] - 7s - loss: 0.1015 - val_loss: 0.1011\n",
      "Epoch 46/50\n",
      "60000/60000 [==============================] - 7s - loss: 0.1013 - val_loss: 0.0999\n",
      "Epoch 47/50\n",
      "60000/60000 [==============================] - 7s - loss: 0.1010 - val_loss: 0.0995\n",
      "Epoch 48/50\n",
      "60000/60000 [==============================] - 7s - loss: 0.1008 - val_loss: 0.0996\n",
      "Epoch 49/50\n",
      "60000/60000 [==============================] - 7s - loss: 0.1008 - val_loss: 0.0990\n",
      "Epoch 50/50\n",
      "60000/60000 [==============================] - 7s - loss: 0.1006 - val_loss: 0.0995\n"
     ]
    },
    {
     "data": {
      "text/plain": [
       "<keras.callbacks.History at 0x7fd1bebacfd0>"
      ]
     },
     "execution_count": 25,
     "metadata": {},
     "output_type": "execute_result"
    }
   ],
   "source": [
    "batch_size=128\n",
    "steps_per_epoch = np.int(np.floor(x_train.shape[0] / batch_size))\n",
    "conv_autoencoder.fit(x_train, x_train, epochs=50, batch_size=128,\n",
    "                     shuffle=True, validation_data=(x_test, x_test),\n",
    "                     callbacks=[TensorBoard(log_dir='./tf_autoencoder_logs')])"
   ]
  },
  {
   "cell_type": "code",
   "execution_count": 29,
   "metadata": {},
   "outputs": [
    {
     "data": {
      "image/png": "[encoded data removed]",
      "text/plain": [
       "<matplotlib.figure.Figure at 0x7fd1beaf56a0>"
      ]
     },
     "metadata": {},
     "output_type": "display_data"
    }
   ],
   "source": [
    "decoded_imgs = conv_autoencoder.predict(x_test)\n",
    "\n",
    "n = 10\n",
    "plt.figure(figsize=(20, 4))\n",
    "for i in range(n):\n",
    "    # display original\n",
    "    ax = plt.subplot(2, n, i+1)\n",
    "    plt.imshow(x_test[i].reshape(28, 28))\n",
    "    plt.gray()\n",
    "    ax.get_xaxis().set_visible(False)\n",
    "    ax.get_yaxis().set_visible(False)\n",
    "\n",
    "    # display reconstruction\n",
    "    ax = plt.subplot(2, n, i + n + 1)\n",
    "    plt.imshow(decoded_imgs[i].reshape(28, 28))\n",
    "    plt.gray()\n",
    "    ax.get_xaxis().set_visible(False)\n",
    "    ax.get_yaxis().set_visible(False)\n",
    "plt.show()"
   ]
  },
  {
   "cell_type": "markdown",
   "metadata": {},
   "source": [
    "We coudl also have a look at the `128-`dimensional encoded middle representation"
   ]
  },
  {
   "cell_type": "code",
   "execution_count": 32,
   "metadata": {},
   "outputs": [
    {
     "data": {
      "image/png": "[encoded data removed]",
      "text/plain": [
       "<matplotlib.figure.Figure at 0x7fd1be13ffd0>"
      ]
     },
     "metadata": {},
     "output_type": "display_data"
    }
   ],
   "source": [
    "conv_encoder = Model(input_img, encoded)\n",
    "encoded_imgs = conv_encoder.predict(x_test)\n",
    "\n",
    "n = 10\n",
    "plt.figure(figsize=(20, 8))\n",
    "for i in range(n):\n",
    "    ax = plt.subplot(1, n, i+1)\n",
    "    plt.imshow(encoded_imgs[i].reshape(4, 4 * 8).T)\n",
    "    plt.gray()\n",
    "    ax.get_xaxis().set_visible(False)\n",
    "    ax.get_yaxis().set_visible(False)\n",
    "plt.show()"
   ]
  },
  {
   "cell_type": "markdown",
   "metadata": {},
   "source": [
    "## Pretraining encoders "
   ]
  },
  {
   "cell_type": "markdown",
   "metadata": {},
   "source": [
    "One of the powerful tools of auto-encoders is using the encoder to generate meaningful representation from the feature vectors."
   ]
  },
  {
   "cell_type": "code",
   "execution_count": null,
   "metadata": {
    "collapsed": true
   },
   "outputs": [],
   "source": [
    "# Use the encoder to pretrain a classifier "
   ]
  },
  {
   "cell_type": "markdown",
   "metadata": {},
   "source": [
    "---"
   ]
  },
  {
   "cell_type": "markdown",
   "metadata": {},
   "source": [
    "## Using pre-trained word embeddings in a Keras model\n",
    "\n",
    "**Reference:** [https://blog.keras.io/using-pre-trained-word-embeddings-in-a-keras-model.html]()"
   ]
  }
 ],
 "metadata": {
  "kernelspec": {
   "display_name": "Python [default]",
   "language": "python",
   "name": "python3"
  },
  "language_info": {
   "codemirror_mode": {
    "name": "ipython",
    "version": 3
   },
   "file_extension": ".py",
   "mimetype": "text/x-python",
   "name": "python",
   "nbconvert_exporter": "python",
   "pygments_lexer": "ipython3",
   "version": "3.5.3"
  }
 },
 "nbformat": 4,
 "nbformat_minor": 1
}
